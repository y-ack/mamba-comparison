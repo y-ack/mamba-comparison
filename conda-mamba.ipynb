{
  "nbformat": 4,
  "nbformat_minor": 0,
  "metadata": {
    "colab": {
      "provenance": [],
      "authorship_tag": "ABX9TyOS1qVp061/qI9d+LforHlz",
      "include_colab_link": true
    },
    "kernelspec": {
      "name": "python3",
      "display_name": "Python 3"
    },
    "language_info": {
      "name": "python"
    }
  },
  "cells": [
    {
      "cell_type": "markdown",
      "metadata": {
        "id": "view-in-github",
        "colab_type": "text"
      },
      "source": [
        "<a href=\"https://colab.research.google.com/github/y-ack/mamba-comparison/blob/main/conda-mamba.ipynb\" target=\"_parent\"><img src=\"https://colab.research.google.com/assets/colab-badge.svg\" alt=\"Open In Colab\"/></a>"
      ]
    },
    {
      "cell_type": "code",
      "execution_count": null,
      "metadata": {
        "id": "Y49S9UlWVDah"
      },
      "outputs": [],
      "source": [
        "## install miniconda\n",
        "!wget -nv https://repo.anaconda.com/miniconda/Miniconda3-latest-Linux-x86_64.sh\n",
        "!chmod +x Miniconda3-latest-Linux-x86_64.sh\n",
        "!bash ./Miniconda3-latest-Linux-x86_64.sh -b -f -p /usr/local\n",
        "!rm Miniconda3-latest-Linux-x86_64.sh\n",
        "\n",
        "# install micromamba from conda\n",
        "!conda install -y micromamba -c conda-forge\n",
        "!export MAMBA_ROOT_PREFIX=/usr/local\n",
        "\n",
        "# get the environment spec\n",
        "!wget -nv https://raw.githubusercontent.com/czbiohub-sf/CRISPRflow/main/environment.yml -O CRISPRflow_env.yml\n",
        "\n",
        "exec_times = [None, None, None, None]"
      ]
    },
    {
      "cell_type": "code",
      "source": [
        "!perl -p0e 's/  - default\\n  - defaults/  - nodefaults/' CRISPRflow_env.yml > CRISPRflow_env_new.yml\n",
        "!diff CRISPRflow_env.yml CRISPRflow_env_new.yml"
      ],
      "metadata": {
        "colab": {
          "base_uri": "https://localhost:8080/"
        },
        "id": "pg8I05A0dEbY",
        "outputId": "bd99ce6e-dd5f-4610-d8f5-00c6d80649d2"
      },
      "execution_count": 2,
      "outputs": [
        {
          "output_type": "stream",
          "name": "stdout",
          "text": [
            "5,6c5\n",
            "<   - default\n",
            "<   - defaults\n",
            "---\n",
            ">   - nodefaults\n"
          ]
        }
      ]
    },
    {
      "cell_type": "code",
      "source": [
        "!micromamba remove -r /usr/local -q -y --name CRISPRflow --all > /dev/null\n",
        "!conda clean -q -y --all > /dev/null"
      ],
      "metadata": {
        "id": "HWS8yRxagucU"
      },
      "execution_count": 3,
      "outputs": []
    },
    {
      "cell_type": "code",
      "source": [
        "exec_times[0] = %timeit -o -n 1 -r 1 !conda env create -y -f CRISPRflow_env.yml -n CRISPRflow"
      ],
      "metadata": {
        "id": "fFJkJ5eUX036"
      },
      "execution_count": null,
      "outputs": []
    },
    {
      "cell_type": "code",
      "source": [
        "!micromamba remove -r /usr/local -q -y --name CRISPRflow --all > /dev/null\n",
        "!conda clean -q -y --all > /dev/null"
      ],
      "metadata": {
        "id": "d2GpbXFuZYu9"
      },
      "execution_count": 5,
      "outputs": []
    },
    {
      "cell_type": "code",
      "source": [
        "exec_times[1] = %timeit -o -n 1 -r 1 !conda env create -y -f CRISPRflow_env_new.yml -n CRISPRflow"
      ],
      "metadata": {
        "id": "LB0zBXLMZsXH"
      },
      "execution_count": null,
      "outputs": []
    },
    {
      "cell_type": "code",
      "source": [
        "!micromamba remove -r /usr/local -q -y --name CRISPRflow --all > /dev/null\n",
        "!micromamba clean -q -y --all > /dev/null"
      ],
      "metadata": {
        "id": "ZdTDf9e1Zy5G"
      },
      "execution_count": 7,
      "outputs": []
    },
    {
      "cell_type": "code",
      "source": [
        "exec_times[2] = %timeit -o -n 1 -r 1 !micromamba env create -y -f CRISPRflow_env.yml -n CRISPRflow"
      ],
      "metadata": {
        "id": "0fBFb4EveR5c"
      },
      "execution_count": null,
      "outputs": []
    },
    {
      "cell_type": "code",
      "source": [
        "!micromamba remove -r /usr/local -q -y --name CRISPRflow --all > /dev/null\n",
        "!micromamba clean -q -y --all > /dev/null"
      ],
      "metadata": {
        "id": "vCoJgrxceSI4"
      },
      "execution_count": 9,
      "outputs": []
    },
    {
      "cell_type": "code",
      "source": [
        "exec_times[3] = %timeit -o -n 1 -r 1 !micromamba env create -y -f CRISPRflow_env_new.yml -n CRISPRflow"
      ],
      "metadata": {
        "id": "Bx1EihBFeSWz"
      },
      "execution_count": null,
      "outputs": []
    },
    {
      "cell_type": "code",
      "source": [
        "import pandas as pd\n",
        "import numpy as np\n",
        "\n",
        "exec_times = np.vectorize(lambda t: np.mean(t.all_runs))(exec_times)\n",
        "exec_times = exec_times.reshape((2, 2))\n",
        "\n",
        "df = pd.DataFrame(data=exec_times, index=pd.Index(['Miniconda', 'micromamba']),\n",
        "                  columns=pd.Index(['default/defaults', 'nodefaults'], name='Default Channels:'))\n",
        "df.style"
      ],
      "metadata": {
        "colab": {
          "base_uri": "https://localhost:8080/",
          "height": 112
        },
        "id": "r2GlnmV2xfmw",
        "outputId": "3b4f41cf-bc03-4d7d-f4b3-f35b30128ed1"
      },
      "execution_count": 18,
      "outputs": [
        {
          "output_type": "execute_result",
          "data": {
            "text/plain": [
              "<pandas.io.formats.style.Styler at 0x7ba0cfb05e40>"
            ],
            "text/html": [
              "<style type=\"text/css\">\n",
              "</style>\n",
              "<table id=\"T_3f480\" class=\"dataframe\">\n",
              "  <thead>\n",
              "    <tr>\n",
              "      <th class=\"index_name level0\" >Default Channels:</th>\n",
              "      <th id=\"T_3f480_level0_col0\" class=\"col_heading level0 col0\" >default/defaults</th>\n",
              "      <th id=\"T_3f480_level0_col1\" class=\"col_heading level0 col1\" >nodefaults</th>\n",
              "    </tr>\n",
              "  </thead>\n",
              "  <tbody>\n",
              "    <tr>\n",
              "      <th id=\"T_3f480_level0_row0\" class=\"row_heading level0 row0\" >Miniconda</th>\n",
              "      <td id=\"T_3f480_row0_col0\" class=\"data row0 col0\" >293.579338</td>\n",
              "      <td id=\"T_3f480_row0_col1\" class=\"data row0 col1\" >259.245121</td>\n",
              "    </tr>\n",
              "    <tr>\n",
              "      <th id=\"T_3f480_level0_row1\" class=\"row_heading level0 row1\" >micromamba</th>\n",
              "      <td id=\"T_3f480_row1_col0\" class=\"data row1 col0\" >47.856322</td>\n",
              "      <td id=\"T_3f480_row1_col1\" class=\"data row1 col1\" >36.200433</td>\n",
              "    </tr>\n",
              "  </tbody>\n",
              "</table>\n"
            ]
          },
          "metadata": {},
          "execution_count": 18
        }
      ]
    }
  ]
}